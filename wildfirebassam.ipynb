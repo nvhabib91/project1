{
 "cells": [
  {
   "cell_type": "code",
   "execution_count": 1,
   "metadata": {},
   "outputs": [],
   "source": [
    "import os\n",
    "import csv\n",
    "import pandas as pd\n",
    "import collections as ct\n",
    "import numpy as np\n",
    "import scipy.stats as sts\n",
    "import matplotlib.pyplot as plt\n",
    "from scipy.stats import linregress\n",
    "import gmaps \n",
    "from config import gkey \n",
    "\n",
    "\n",
    "\n"
   ]
  },
  {
   "cell_type": "code",
   "execution_count": 2,
   "metadata": {},
   "outputs": [],
   "source": [
    "gmaps.configure(api_key=gkey)\n"
   ]
  },
  {
   "cell_type": "code",
   "execution_count": 3,
   "metadata": {},
   "outputs": [
    {
     "name": "stdout",
     "output_type": "stream",
     "text": [
      "C:/Users/bassa/projects/wildfire/resources/fire_clean.csv\n"
     ]
    }
   ],
   "source": [
    "chum_path = 'C:/Users/bassa/projects/wildfire/resources/'\n",
    "chum_csv_file = 'fire_clean.csv'\n",
    "chum_csv_filepath = os.path.join(chum_path, chum_csv_file)\n",
    "print(chum_csv_filepath)"
   ]
  },
  {
   "cell_type": "code",
   "execution_count": 4,
   "metadata": {},
   "outputs": [],
   "source": [
    "dirty_fire = pd.read_csv(chum_csv_filepath)"
   ]
  },
  {
   "cell_type": "code",
   "execution_count": 5,
   "metadata": {},
   "outputs": [],
   "source": [
    "clean_df = pd.read_csv(chum_csv_filepath, lineterminator='\\n')"
   ]
  },
  {
   "cell_type": "code",
   "execution_count": 6,
   "metadata": {},
   "outputs": [
    {
     "data": {
      "text/html": [
       "<div>\n",
       "<style scoped>\n",
       "    .dataframe tbody tr th:only-of-type {\n",
       "        vertical-align: middle;\n",
       "    }\n",
       "\n",
       "    .dataframe tbody tr th {\n",
       "        vertical-align: top;\n",
       "    }\n",
       "\n",
       "    .dataframe thead th {\n",
       "        text-align: right;\n",
       "    }\n",
       "</style>\n",
       "<table border=\"1\" class=\"dataframe\">\n",
       "  <thead>\n",
       "    <tr style=\"text-align: right;\">\n",
       "      <th></th>\n",
       "      <th>FOD_ID</th>\n",
       "      <th>SOURCE_SYSTEM</th>\n",
       "      <th>SOURCE_REPORTING_UNIT_NAME</th>\n",
       "      <th>FIRE_YEAR</th>\n",
       "      <th>STAT_CAUSE_DESCR</th>\n",
       "      <th>FIRE_SIZE</th>\n",
       "      <th>FIRE_SIZE_CLASS</th>\n",
       "      <th>LATITUDE</th>\n",
       "      <th>LONGITUDE</th>\n",
       "      <th>STATE</th>\n",
       "    </tr>\n",
       "  </thead>\n",
       "  <tbody>\n",
       "    <tr>\n",
       "      <td>0</td>\n",
       "      <td>1</td>\n",
       "      <td>FS-FIRESTAT</td>\n",
       "      <td>Plumas National Forest</td>\n",
       "      <td>2005</td>\n",
       "      <td>Miscellaneous</td>\n",
       "      <td>0.10</td>\n",
       "      <td>A</td>\n",
       "      <td>40.036944</td>\n",
       "      <td>-121.005833</td>\n",
       "      <td>CA</td>\n",
       "    </tr>\n",
       "    <tr>\n",
       "      <td>1</td>\n",
       "      <td>2</td>\n",
       "      <td>FS-FIRESTAT</td>\n",
       "      <td>Eldorado National Forest</td>\n",
       "      <td>2004</td>\n",
       "      <td>Lightning</td>\n",
       "      <td>0.25</td>\n",
       "      <td>A</td>\n",
       "      <td>38.933056</td>\n",
       "      <td>-120.404444</td>\n",
       "      <td>CA</td>\n",
       "    </tr>\n",
       "    <tr>\n",
       "      <td>2</td>\n",
       "      <td>3</td>\n",
       "      <td>FS-FIRESTAT</td>\n",
       "      <td>Eldorado National Forest</td>\n",
       "      <td>2004</td>\n",
       "      <td>Debris Burning</td>\n",
       "      <td>0.10</td>\n",
       "      <td>A</td>\n",
       "      <td>38.984167</td>\n",
       "      <td>-120.735556</td>\n",
       "      <td>CA</td>\n",
       "    </tr>\n",
       "    <tr>\n",
       "      <td>3</td>\n",
       "      <td>4</td>\n",
       "      <td>FS-FIRESTAT</td>\n",
       "      <td>Eldorado National Forest</td>\n",
       "      <td>2004</td>\n",
       "      <td>Lightning</td>\n",
       "      <td>0.10</td>\n",
       "      <td>A</td>\n",
       "      <td>38.559167</td>\n",
       "      <td>-119.913333</td>\n",
       "      <td>CA</td>\n",
       "    </tr>\n",
       "    <tr>\n",
       "      <td>4</td>\n",
       "      <td>5</td>\n",
       "      <td>FS-FIRESTAT</td>\n",
       "      <td>Eldorado National Forest</td>\n",
       "      <td>2004</td>\n",
       "      <td>Lightning</td>\n",
       "      <td>0.10</td>\n",
       "      <td>A</td>\n",
       "      <td>38.559167</td>\n",
       "      <td>-119.933056</td>\n",
       "      <td>CA</td>\n",
       "    </tr>\n",
       "  </tbody>\n",
       "</table>\n",
       "</div>"
      ],
      "text/plain": [
       "   FOD_ID SOURCE_SYSTEM SOURCE_REPORTING_UNIT_NAME  FIRE_YEAR  \\\n",
       "0       1   FS-FIRESTAT     Plumas National Forest       2005   \n",
       "1       2   FS-FIRESTAT   Eldorado National Forest       2004   \n",
       "2       3   FS-FIRESTAT   Eldorado National Forest       2004   \n",
       "3       4   FS-FIRESTAT   Eldorado National Forest       2004   \n",
       "4       5   FS-FIRESTAT   Eldorado National Forest       2004   \n",
       "\n",
       "  STAT_CAUSE_DESCR  FIRE_SIZE FIRE_SIZE_CLASS   LATITUDE   LONGITUDE STATE  \n",
       "0    Miscellaneous       0.10               A  40.036944 -121.005833    CA  \n",
       "1        Lightning       0.25               A  38.933056 -120.404444    CA  \n",
       "2   Debris Burning       0.10               A  38.984167 -120.735556    CA  \n",
       "3        Lightning       0.10               A  38.559167 -119.913333    CA  \n",
       "4        Lightning       0.10               A  38.559167 -119.933056    CA  "
      ]
     },
     "execution_count": 6,
     "metadata": {},
     "output_type": "execute_result"
    }
   ],
   "source": [
    "clean_df.head()"
   ]
  },
  {
   "cell_type": "code",
   "execution_count": null,
   "metadata": {},
   "outputs": [],
   "source": []
  },
  {
   "cell_type": "code",
   "execution_count": 7,
   "metadata": {},
   "outputs": [
    {
     "data": {
      "text/plain": [
       "52"
      ]
     },
     "execution_count": 7,
     "metadata": {},
     "output_type": "execute_result"
    }
   ],
   "source": [
    "states_number = clean_df['STATE'].nunique()\n",
    "\n",
    "states_number "
   ]
  },
  {
   "cell_type": "code",
   "execution_count": 8,
   "metadata": {},
   "outputs": [
    {
     "data": {
      "text/plain": [
       "0    47.8666\n",
       "dtype: float64"
      ]
     },
     "execution_count": 8,
     "metadata": {},
     "output_type": "execute_result"
    }
   ],
   "source": [
    "lat_mode = clean_df[\"LATITUDE\"].mode()\n",
    "\n",
    "lat_mode \n"
   ]
  },
  {
   "cell_type": "code",
   "execution_count": 9,
   "metadata": {},
   "outputs": [
    {
     "data": {
      "text/plain": [
       "0   -110.4518\n",
       "dtype: float64"
      ]
     },
     "execution_count": 9,
     "metadata": {},
     "output_type": "execute_result"
    }
   ],
   "source": [
    "long_mode = clean_df[\"LONGITUDE\"].mode()\n",
    "\n",
    "long_mode"
   ]
  },
  {
   "cell_type": "code",
   "execution_count": 10,
   "metadata": {},
   "outputs": [
    {
     "data": {
      "text/plain": [
       "0    CA\n",
       "dtype: object"
      ]
     },
     "execution_count": 10,
     "metadata": {},
     "output_type": "execute_result"
    }
   ],
   "source": [
    "state_mode = clean_df[\"STATE\"].mode()\n",
    "\n",
    "state_mode"
   ]
  },
  {
   "cell_type": "code",
   "execution_count": 11,
   "metadata": {},
   "outputs": [
    {
     "data": {
      "text/plain": [
       "0    Georgia Forestry Commission\n",
       "dtype: object"
      ]
     },
     "execution_count": 11,
     "metadata": {},
     "output_type": "execute_result"
    }
   ],
   "source": [
    "source_mode = clean_df[\"SOURCE_REPORTING_UNIT_NAME\"].mode()\n",
    "\n",
    "source_mode"
   ]
  },
  {
   "cell_type": "code",
   "execution_count": 12,
   "metadata": {},
   "outputs": [
    {
     "data": {
      "text/plain": [
       "0    B\n",
       "dtype: object"
      ]
     },
     "execution_count": 12,
     "metadata": {},
     "output_type": "execute_result"
    }
   ],
   "source": [
    "class_mode = clean_df[\"FIRE_SIZE_CLASS\"].mode()\n",
    "\n",
    "class_mode"
   ]
  },
  {
   "cell_type": "code",
   "execution_count": 13,
   "metadata": {},
   "outputs": [
    {
     "data": {
      "text/plain": [
       "606945.0"
      ]
     },
     "execution_count": 13,
     "metadata": {},
     "output_type": "execute_result"
    }
   ],
   "source": [
    "class_max = clean_df[\"FIRE_SIZE\"].max()\n",
    "\n",
    "class_max"
   ]
  },
  {
   "cell_type": "code",
   "execution_count": null,
   "metadata": {},
   "outputs": [],
   "source": []
  },
  {
   "cell_type": "code",
   "execution_count": 14,
   "metadata": {},
   "outputs": [
    {
     "data": {
      "text/html": [
       "<div>\n",
       "<style scoped>\n",
       "    .dataframe tbody tr th:only-of-type {\n",
       "        vertical-align: middle;\n",
       "    }\n",
       "\n",
       "    .dataframe tbody tr th {\n",
       "        vertical-align: top;\n",
       "    }\n",
       "\n",
       "    .dataframe thead th {\n",
       "        text-align: right;\n",
       "    }\n",
       "</style>\n",
       "<table border=\"1\" class=\"dataframe\">\n",
       "  <thead>\n",
       "    <tr style=\"text-align: right;\">\n",
       "      <th></th>\n",
       "      <th>LATITUDE</th>\n",
       "      <th>LONGITUDE</th>\n",
       "    </tr>\n",
       "  </thead>\n",
       "  <tbody>\n",
       "    <tr>\n",
       "      <td>0</td>\n",
       "      <td>40.036944</td>\n",
       "      <td>-121.005833</td>\n",
       "    </tr>\n",
       "    <tr>\n",
       "      <td>1</td>\n",
       "      <td>38.933056</td>\n",
       "      <td>-120.404444</td>\n",
       "    </tr>\n",
       "    <tr>\n",
       "      <td>2</td>\n",
       "      <td>38.984167</td>\n",
       "      <td>-120.735556</td>\n",
       "    </tr>\n",
       "    <tr>\n",
       "      <td>3</td>\n",
       "      <td>38.559167</td>\n",
       "      <td>-119.913333</td>\n",
       "    </tr>\n",
       "    <tr>\n",
       "      <td>4</td>\n",
       "      <td>38.559167</td>\n",
       "      <td>-119.933056</td>\n",
       "    </tr>\n",
       "    <tr>\n",
       "      <td>...</td>\n",
       "      <td>...</td>\n",
       "      <td>...</td>\n",
       "    </tr>\n",
       "    <tr>\n",
       "      <td>1880460</td>\n",
       "      <td>40.481637</td>\n",
       "      <td>-122.389375</td>\n",
       "    </tr>\n",
       "    <tr>\n",
       "      <td>1880461</td>\n",
       "      <td>37.617619</td>\n",
       "      <td>-120.938570</td>\n",
       "    </tr>\n",
       "    <tr>\n",
       "      <td>1880462</td>\n",
       "      <td>37.617619</td>\n",
       "      <td>-120.938570</td>\n",
       "    </tr>\n",
       "    <tr>\n",
       "      <td>1880463</td>\n",
       "      <td>37.672235</td>\n",
       "      <td>-120.898356</td>\n",
       "    </tr>\n",
       "    <tr>\n",
       "      <td>1880464</td>\n",
       "      <td>34.263217</td>\n",
       "      <td>-116.830950</td>\n",
       "    </tr>\n",
       "  </tbody>\n",
       "</table>\n",
       "<p>1880465 rows × 2 columns</p>\n",
       "</div>"
      ],
      "text/plain": [
       "          LATITUDE   LONGITUDE\n",
       "0        40.036944 -121.005833\n",
       "1        38.933056 -120.404444\n",
       "2        38.984167 -120.735556\n",
       "3        38.559167 -119.913333\n",
       "4        38.559167 -119.933056\n",
       "...            ...         ...\n",
       "1880460  40.481637 -122.389375\n",
       "1880461  37.617619 -120.938570\n",
       "1880462  37.617619 -120.938570\n",
       "1880463  37.672235 -120.898356\n",
       "1880464  34.263217 -116.830950\n",
       "\n",
       "[1880465 rows x 2 columns]"
      ]
     },
     "execution_count": 14,
     "metadata": {},
     "output_type": "execute_result"
    }
   ],
   "source": [
    "locations = clean_df[[\"LATITUDE\", \"LONGITUDE\"]]\n",
    "\n",
    "locations"
   ]
  },
  {
   "cell_type": "code",
   "execution_count": 15,
   "metadata": {},
   "outputs": [
    {
     "data": {
      "text/plain": [
       "0    CA\n",
       "dtype: object"
      ]
     },
     "execution_count": 15,
     "metadata": {},
     "output_type": "execute_result"
    }
   ],
   "source": [
    "clean_df[\"STATE\"].mode()"
   ]
  },
  {
   "cell_type": "code",
   "execution_count": 16,
   "metadata": {},
   "outputs": [
    {
     "data": {
      "text/html": [
       "<div>\n",
       "<style scoped>\n",
       "    .dataframe tbody tr th:only-of-type {\n",
       "        vertical-align: middle;\n",
       "    }\n",
       "\n",
       "    .dataframe tbody tr th {\n",
       "        vertical-align: top;\n",
       "    }\n",
       "\n",
       "    .dataframe thead th {\n",
       "        text-align: right;\n",
       "    }\n",
       "</style>\n",
       "<table border=\"1\" class=\"dataframe\">\n",
       "  <thead>\n",
       "    <tr style=\"text-align: right;\">\n",
       "      <th></th>\n",
       "      <th>FOD_ID</th>\n",
       "      <th>SOURCE_SYSTEM</th>\n",
       "      <th>SOURCE_REPORTING_UNIT_NAME</th>\n",
       "      <th>FIRE_YEAR</th>\n",
       "      <th>STAT_CAUSE_DESCR</th>\n",
       "      <th>FIRE_SIZE</th>\n",
       "      <th>FIRE_SIZE_CLASS</th>\n",
       "      <th>LATITUDE</th>\n",
       "      <th>LONGITUDE</th>\n",
       "      <th>STATE</th>\n",
       "    </tr>\n",
       "  </thead>\n",
       "  <tbody>\n",
       "    <tr>\n",
       "      <td>0</td>\n",
       "      <td>1</td>\n",
       "      <td>FS-FIRESTAT</td>\n",
       "      <td>Plumas National Forest</td>\n",
       "      <td>2005</td>\n",
       "      <td>Miscellaneous</td>\n",
       "      <td>0.10</td>\n",
       "      <td>A</td>\n",
       "      <td>40.036944</td>\n",
       "      <td>-121.005833</td>\n",
       "      <td>CA</td>\n",
       "    </tr>\n",
       "    <tr>\n",
       "      <td>1</td>\n",
       "      <td>2</td>\n",
       "      <td>FS-FIRESTAT</td>\n",
       "      <td>Eldorado National Forest</td>\n",
       "      <td>2004</td>\n",
       "      <td>Lightning</td>\n",
       "      <td>0.25</td>\n",
       "      <td>A</td>\n",
       "      <td>38.933056</td>\n",
       "      <td>-120.404444</td>\n",
       "      <td>CA</td>\n",
       "    </tr>\n",
       "    <tr>\n",
       "      <td>2</td>\n",
       "      <td>3</td>\n",
       "      <td>FS-FIRESTAT</td>\n",
       "      <td>Eldorado National Forest</td>\n",
       "      <td>2004</td>\n",
       "      <td>Debris Burning</td>\n",
       "      <td>0.10</td>\n",
       "      <td>A</td>\n",
       "      <td>38.984167</td>\n",
       "      <td>-120.735556</td>\n",
       "      <td>CA</td>\n",
       "    </tr>\n",
       "    <tr>\n",
       "      <td>3</td>\n",
       "      <td>4</td>\n",
       "      <td>FS-FIRESTAT</td>\n",
       "      <td>Eldorado National Forest</td>\n",
       "      <td>2004</td>\n",
       "      <td>Lightning</td>\n",
       "      <td>0.10</td>\n",
       "      <td>A</td>\n",
       "      <td>38.559167</td>\n",
       "      <td>-119.913333</td>\n",
       "      <td>CA</td>\n",
       "    </tr>\n",
       "    <tr>\n",
       "      <td>4</td>\n",
       "      <td>5</td>\n",
       "      <td>FS-FIRESTAT</td>\n",
       "      <td>Eldorado National Forest</td>\n",
       "      <td>2004</td>\n",
       "      <td>Lightning</td>\n",
       "      <td>0.10</td>\n",
       "      <td>A</td>\n",
       "      <td>38.559167</td>\n",
       "      <td>-119.933056</td>\n",
       "      <td>CA</td>\n",
       "    </tr>\n",
       "    <tr>\n",
       "      <td>...</td>\n",
       "      <td>...</td>\n",
       "      <td>...</td>\n",
       "      <td>...</td>\n",
       "      <td>...</td>\n",
       "      <td>...</td>\n",
       "      <td>...</td>\n",
       "      <td>...</td>\n",
       "      <td>...</td>\n",
       "      <td>...</td>\n",
       "      <td>...</td>\n",
       "    </tr>\n",
       "    <tr>\n",
       "      <td>1880460</td>\n",
       "      <td>300348363</td>\n",
       "      <td>ST-CACDF</td>\n",
       "      <td>Shasta-Trinity Unit</td>\n",
       "      <td>2015</td>\n",
       "      <td>Missing/Undefined</td>\n",
       "      <td>0.01</td>\n",
       "      <td>A</td>\n",
       "      <td>40.481637</td>\n",
       "      <td>-122.389375</td>\n",
       "      <td>CA</td>\n",
       "    </tr>\n",
       "    <tr>\n",
       "      <td>1880461</td>\n",
       "      <td>300348373</td>\n",
       "      <td>ST-CACDF</td>\n",
       "      <td>Tuolumne-Calaveras Unit</td>\n",
       "      <td>2015</td>\n",
       "      <td>Miscellaneous</td>\n",
       "      <td>0.20</td>\n",
       "      <td>A</td>\n",
       "      <td>37.617619</td>\n",
       "      <td>-120.938570</td>\n",
       "      <td>CA</td>\n",
       "    </tr>\n",
       "    <tr>\n",
       "      <td>1880462</td>\n",
       "      <td>300348375</td>\n",
       "      <td>ST-CACDF</td>\n",
       "      <td>Tuolumne-Calaveras Unit</td>\n",
       "      <td>2015</td>\n",
       "      <td>Missing/Undefined</td>\n",
       "      <td>0.10</td>\n",
       "      <td>A</td>\n",
       "      <td>37.617619</td>\n",
       "      <td>-120.938570</td>\n",
       "      <td>CA</td>\n",
       "    </tr>\n",
       "    <tr>\n",
       "      <td>1880463</td>\n",
       "      <td>300348377</td>\n",
       "      <td>ST-CACDF</td>\n",
       "      <td>Tuolumne-Calaveras Unit</td>\n",
       "      <td>2015</td>\n",
       "      <td>Missing/Undefined</td>\n",
       "      <td>2.00</td>\n",
       "      <td>B</td>\n",
       "      <td>37.672235</td>\n",
       "      <td>-120.898356</td>\n",
       "      <td>CA</td>\n",
       "    </tr>\n",
       "    <tr>\n",
       "      <td>1880464</td>\n",
       "      <td>300348399</td>\n",
       "      <td>ST-CACDF</td>\n",
       "      <td>CDF - San Bernardino Unit</td>\n",
       "      <td>2015</td>\n",
       "      <td>Miscellaneous</td>\n",
       "      <td>0.10</td>\n",
       "      <td>A</td>\n",
       "      <td>34.263217</td>\n",
       "      <td>-116.830950</td>\n",
       "      <td>CA</td>\n",
       "    </tr>\n",
       "  </tbody>\n",
       "</table>\n",
       "<p>1880465 rows × 10 columns</p>\n",
       "</div>"
      ],
      "text/plain": [
       "            FOD_ID SOURCE_SYSTEM SOURCE_REPORTING_UNIT_NAME  FIRE_YEAR  \\\n",
       "0                1   FS-FIRESTAT     Plumas National Forest       2005   \n",
       "1                2   FS-FIRESTAT   Eldorado National Forest       2004   \n",
       "2                3   FS-FIRESTAT   Eldorado National Forest       2004   \n",
       "3                4   FS-FIRESTAT   Eldorado National Forest       2004   \n",
       "4                5   FS-FIRESTAT   Eldorado National Forest       2004   \n",
       "...            ...           ...                        ...        ...   \n",
       "1880460  300348363      ST-CACDF        Shasta-Trinity Unit       2015   \n",
       "1880461  300348373      ST-CACDF    Tuolumne-Calaveras Unit       2015   \n",
       "1880462  300348375      ST-CACDF    Tuolumne-Calaveras Unit       2015   \n",
       "1880463  300348377      ST-CACDF    Tuolumne-Calaveras Unit       2015   \n",
       "1880464  300348399      ST-CACDF  CDF - San Bernardino Unit       2015   \n",
       "\n",
       "          STAT_CAUSE_DESCR  FIRE_SIZE FIRE_SIZE_CLASS   LATITUDE   LONGITUDE  \\\n",
       "0            Miscellaneous       0.10               A  40.036944 -121.005833   \n",
       "1                Lightning       0.25               A  38.933056 -120.404444   \n",
       "2           Debris Burning       0.10               A  38.984167 -120.735556   \n",
       "3                Lightning       0.10               A  38.559167 -119.913333   \n",
       "4                Lightning       0.10               A  38.559167 -119.933056   \n",
       "...                    ...        ...             ...        ...         ...   \n",
       "1880460  Missing/Undefined       0.01               A  40.481637 -122.389375   \n",
       "1880461      Miscellaneous       0.20               A  37.617619 -120.938570   \n",
       "1880462  Missing/Undefined       0.10               A  37.617619 -120.938570   \n",
       "1880463  Missing/Undefined       2.00               B  37.672235 -120.898356   \n",
       "1880464      Miscellaneous       0.10               A  34.263217 -116.830950   \n",
       "\n",
       "        STATE  \n",
       "0          CA  \n",
       "1          CA  \n",
       "2          CA  \n",
       "3          CA  \n",
       "4          CA  \n",
       "...       ...  \n",
       "1880460    CA  \n",
       "1880461    CA  \n",
       "1880462    CA  \n",
       "1880463    CA  \n",
       "1880464    CA  \n",
       "\n",
       "[1880465 rows x 10 columns]"
      ]
     },
     "execution_count": 16,
     "metadata": {},
     "output_type": "execute_result"
    }
   ],
   "source": [
    "size_mean = clean_df[\"FIRE_SIZE\"].mean\n",
    "\n",
    "clean_df"
   ]
  },
  {
   "cell_type": "code",
   "execution_count": 17,
   "metadata": {},
   "outputs": [
    {
     "data": {
      "text/plain": [
       "0    Debris Burning\n",
       "dtype: object"
      ]
     },
     "execution_count": 17,
     "metadata": {},
     "output_type": "execute_result"
    }
   ],
   "source": [
    "most_common_source = clean_df[\"STAT_CAUSE_DESCR\"].mode()\n",
    "\n",
    "most_common_source "
   ]
  },
  {
   "cell_type": "code",
   "execution_count": 18,
   "metadata": {},
   "outputs": [
    {
     "data": {
      "text/html": [
       "<div>\n",
       "<style scoped>\n",
       "    .dataframe tbody tr th:only-of-type {\n",
       "        vertical-align: middle;\n",
       "    }\n",
       "\n",
       "    .dataframe tbody tr th {\n",
       "        vertical-align: top;\n",
       "    }\n",
       "\n",
       "    .dataframe thead th {\n",
       "        text-align: right;\n",
       "    }\n",
       "</style>\n",
       "<table border=\"1\" class=\"dataframe\">\n",
       "  <thead>\n",
       "    <tr style=\"text-align: right;\">\n",
       "      <th></th>\n",
       "      <th>STAT_CAUSE_DESCR</th>\n",
       "    </tr>\n",
       "    <tr>\n",
       "      <th>STATE</th>\n",
       "      <th></th>\n",
       "    </tr>\n",
       "  </thead>\n",
       "  <tbody>\n",
       "    <tr>\n",
       "      <td>CA</td>\n",
       "      <td>Miscellaneous</td>\n",
       "    </tr>\n",
       "    <tr>\n",
       "      <td>CA</td>\n",
       "      <td>Lightning</td>\n",
       "    </tr>\n",
       "    <tr>\n",
       "      <td>CA</td>\n",
       "      <td>Debris Burning</td>\n",
       "    </tr>\n",
       "    <tr>\n",
       "      <td>CA</td>\n",
       "      <td>Lightning</td>\n",
       "    </tr>\n",
       "    <tr>\n",
       "      <td>CA</td>\n",
       "      <td>Lightning</td>\n",
       "    </tr>\n",
       "  </tbody>\n",
       "</table>\n",
       "</div>"
      ],
      "text/plain": [
       "      STAT_CAUSE_DESCR\n",
       "STATE                 \n",
       "CA       Miscellaneous\n",
       "CA           Lightning\n",
       "CA      Debris Burning\n",
       "CA           Lightning\n",
       "CA           Lightning"
      ]
     },
     "execution_count": 18,
     "metadata": {},
     "output_type": "execute_result"
    }
   ],
   "source": [
    "cause_and_size = clean_df[[\"STATE\",\"STAT_CAUSE_DESCR\"]]\n",
    "\n",
    "cause_and_size = cause_and_size.set_index(\"STATE\")\n",
    "\n",
    "cause_and_size.head()\n"
   ]
  },
  {
   "cell_type": "code",
   "execution_count": 19,
   "metadata": {},
   "outputs": [],
   "source": [
    "causes = clean_df['STAT_CAUSE_DESCR']"
   ]
  },
  {
   "cell_type": "code",
   "execution_count": 20,
   "metadata": {},
   "outputs": [],
   "source": [
    "x_axis = np.arange(len(clean_df))\n",
    "tick_locations = [value+0.4 for value in x_axis]"
   ]
  },
  {
   "cell_type": "code",
   "execution_count": 21,
   "metadata": {},
   "outputs": [
    {
     "data": {
      "text/plain": [
       "13"
      ]
     },
     "execution_count": 21,
     "metadata": {},
     "output_type": "execute_result"
    }
   ],
   "source": [
    "causes.nunique()"
   ]
  },
  {
   "cell_type": "code",
   "execution_count": 22,
   "metadata": {},
   "outputs": [],
   "source": [
    "causes = clean_df.iloc[:,4]\n",
    "colors = [\"yellow\",\"green\",\"lightblue\",\"orange\",\"red\",\"purple\",\"pink\",\"yellowgreen\",\"lightskyblue\",\"lightcoral\", \"magenta\", \"turquoise\", \"maroon\"]"
   ]
  },
  {
   "cell_type": "code",
   "execution_count": 23,
   "metadata": {},
   "outputs": [
    {
     "data": {
      "text/plain": [
       "Debris Burning       0.228150\n",
       "Miscellaneous        0.172194\n",
       "Arson                0.149673\n",
       "Lightning            0.148085\n",
       "Missing/Undefined    0.088661\n",
       "Equipment Use        0.078498\n",
       "Campfire             0.040489\n",
       "Children             0.032528\n",
       "Smoking              0.028115\n",
       "Railroad             0.017791\n",
       "Powerline            0.007683\n",
       "Fireworks            0.006116\n",
       "Structure            0.002019\n",
       "Name: STAT_CAUSE_DESCR, dtype: float64"
      ]
     },
     "execution_count": 23,
     "metadata": {},
     "output_type": "execute_result"
    }
   ],
   "source": [
    "cause_counts = causes.value_counts(\"Arson\")\n",
    "\n",
    "cause_counts"
   ]
  },
  {
   "cell_type": "code",
   "execution_count": 24,
   "metadata": {},
   "outputs": [
    {
     "data": {
      "text/plain": [
       "([<matplotlib.patches.Wedge at 0x1c4eb0c3388>,\n",
       "  <matplotlib.patches.Wedge at 0x1c4eb0cf488>,\n",
       "  <matplotlib.patches.Wedge at 0x1c4eb0d58c8>,\n",
       "  <matplotlib.patches.Wedge at 0x1c4eb0dbdc8>,\n",
       "  <matplotlib.patches.Wedge at 0x1c4eb0e86c8>,\n",
       "  <matplotlib.patches.Wedge at 0x1c4eb0edbc8>,\n",
       "  <matplotlib.patches.Wedge at 0x1c4eb0f4cc8>,\n",
       "  <matplotlib.patches.Wedge at 0x1c4eb1011c8>,\n",
       "  <matplotlib.patches.Wedge at 0x1c4eb0e82c8>,\n",
       "  <matplotlib.patches.Wedge at 0x1c4eb0ed7c8>,\n",
       "  <matplotlib.patches.Wedge at 0x1c4eb113f08>,\n",
       "  <matplotlib.patches.Wedge at 0x1c4eb121408>,\n",
       "  <matplotlib.patches.Wedge at 0x1c4eb1268c8>],\n",
       " [Text(-3.2994278001829493, -0.061450723184542526, 'Debris Burning'),\n",
       "  Text(-0.9577232857201363, -3.1579686679872916, 'Miscellaneous'),\n",
       "  Text(2.1678195822330717, -2.488083249991212, 'Arson'),\n",
       "  Text(3.2890847427453838, 0.2681819439103508, 'Lightning'),\n",
       "  Text(2.2389619587027765, 2.42426263995505, 'Missing/Undefined'),\n",
       "  Text(0.7218958645126357, 3.2200724154589375, 'Equipment Use'),\n",
       "  Text(-0.5038101560856434, 3.2613149689389034, 'Campfire'),\n",
       "  Text(-1.232181781243174, 3.0613278259559857, 'Children'),\n",
       "  Text(-1.7895917065630873, 2.7726091545330758, 'Smoking'),\n",
       "  Text(-2.169486006789724, 2.4866303437269437, 'Railroad'),\n",
       "  Text(-2.3613324873963006, 2.305235103837958, 'Powerline'),\n",
       "  Text(-2.4590146148741154, 2.200737858954471, '.'),\n",
       "  Text(-2.5144437698239477, 2.137187995566496, '.')],\n",
       " [Text(-1.7996878910088812, -0.03351857628247774, '22.8%'),\n",
       "  Text(-0.5223945194837106, -1.7225283643567042, '17.2%'),\n",
       "  Text(1.1824470448544024, -1.3571363181770246, '15.0%'),\n",
       "  Text(1.7940462233156635, 0.14628106031473678, '14.8%'),\n",
       "  Text(1.2212519774742414, 1.322325076339118, '8.9%'),\n",
       "  Text(0.3937613806432557, 1.7564031357048748, '7.8%'),\n",
       "  Text(-0.27480553968307814, 1.7788990739666743, '4.0%'),\n",
       "  Text(-0.6720991534053675, 1.6698151777941737, '3.3%'),\n",
       "  Text(-0.9761409308525929, 1.5123322661089502, '2.8%'),\n",
       "  Text(-1.1833560037034856, 1.3563438238510601, '1.8%'),\n",
       "  Text(-1.2879995385798002, 1.257400965729795, '0.8%'),\n",
       "  Text(-1.3412806990222446, 1.20040246852062, '0.6%'),\n",
       "  Text(-1.3715147835403347, 1.165738906672634, '0.2%')])"
      ]
     },
     "execution_count": 24,
     "metadata": {},
     "output_type": "execute_result"
    },
    {
     "data": {
      "image/png": "[encoded data removed]",
      "text/plain": [
       "<Figure size 432x288 with 1 Axes>"
      ]
     },
     "metadata": {},
     "output_type": "display_data"
    }
   ],
   "source": [
    "plt.pie(cause_counts,labels=[\"Debris Burning\", \"Miscellaneous\", \"Arson\", \"Lightning\", \"Missing/Undefined\", \"Equipment Use\", \"Campfire\", \"Children\", \"Smoking\", \"Railroad\", \"Powerline\", \".\", \".\"], colors=colors,\n",
    "        autopct=\"%1.1f%%\", shadow=True, startangle=140, radius=3)\n",
    "#plt.figure(figsize=(40,20))\n"
   ]
  },
  {
   "cell_type": "code",
   "execution_count": 27,
   "metadata": {},
   "outputs": [],
   "source": [
    "x_axis = clean_df.iloc[:,9]\n",
    "y_axis = clean_df.iloc[:,4]"
   ]
  },
  {
   "cell_type": "code",
   "execution_count": 28,
   "metadata": {},
   "outputs": [
    {
     "data": {
      "text/plain": [
       "<matplotlib.collections.PathCollection at 0x1c4db2a25c8>"
      ]
     },
     "execution_count": 28,
     "metadata": {},
     "output_type": "execute_result"
    },
    {
     "data": {
      "image/png": "[encoded data removed]",
      "text/plain": [
       "<Figure size 1440x360 with 1 Axes>"
      ]
     },
     "metadata": {
      "needs_background": "light"
     },
     "output_type": "display_data"
    }
   ],
   "source": [
    "plt.figure(figsize=(20,5))\n",
    "\n",
    "plt.scatter(clean_df.iloc[:,4], clean_df.iloc[:,5])\n",
    "\n"
   ]
  },
  {
   "cell_type": "code",
   "execution_count": 29,
   "metadata": {},
   "outputs": [
    {
     "data": {
      "text/plain": [
       "<matplotlib.collections.PathCollection at 0x1c4eb521288>"
      ]
     },
     "execution_count": 29,
     "metadata": {},
     "output_type": "execute_result"
    },
    {
     "data": {
      "image/png": "[encoded data removed]",
      "text/plain": [
       "<Figure size 1440x360 with 1 Axes>"
      ]
     },
     "metadata": {
      "needs_background": "light"
     },
     "output_type": "display_data"
    }
   ],
   "source": [
    "plt.figure(figsize=(20,5))\n",
    "\n",
    "plt.scatter(clean_df.iloc[:,7], clean_df.iloc[:,8])\n"
   ]
  }
 ],
 "metadata": {
  "kernelspec": {
   "display_name": "Python 3",
   "language": "python",
   "name": "python3"
  },
  "language_info": {
   "codemirror_mode": {
    "name": "ipython",
    "version": 3
   },
   "file_extension": ".py",
   "mimetype": "text/x-python",
   "name": "python",
   "nbconvert_exporter": "python",
   "pygments_lexer": "ipython3",
   "version": "3.7.4"
  }
 },
 "nbformat": 4,
 "nbformat_minor": 2
}
